{
 "cells": [
  {
   "cell_type": "code",
   "execution_count": null,
   "id": "worthy-medicare",
   "metadata": {},
   "outputs": [],
   "source": [
    "ASSIGNMENT"
   ]
  },
  {
   "cell_type": "code",
   "execution_count": 1,
   "id": "behavioral-bundle",
   "metadata": {},
   "outputs": [
    {
     "data": {
      "text/plain": [
       "'\\nBizMachine CASE STUDY - OUTLINE\\n\\n1) Import of data\\n2) Data cleaning\\n3) Office building indicator\\n4) Merging Dataframes\\n5) Obtaining aggregated data\\n6) Data labeling\\n7) Training data preparation for the use of a classifier\\n8) Aplication of DecisionTreeClassifier\\n9) Visualization of errors\\n'"
      ]
     },
     "execution_count": 1,
     "metadata": {},
     "output_type": "execute_result"
    }
   ],
   "source": [
    "\"\"\"\n",
    "OUTLINE\n",
    "\n",
    "1) Import of data\n",
    "2) Data cleaning\n",
    "3) Office building indicator\n",
    "4) Merging Dataframes\n",
    "5) Obtaining aggregated data\n",
    "6) Data labeling\n",
    "7) Training data preparation for the use of a classifier\n",
    "8) Aplication of DecisionTreeClassifier\n",
    "9) Visualization of errors\n",
    "\"\"\""
   ]
  },
  {
   "cell_type": "code",
   "execution_count": 2,
   "id": "working-character",
   "metadata": {},
   "outputs": [],
   "source": [
    "import pandas as pd"
   ]
  },
  {
   "cell_type": "code",
   "execution_count": 3,
   "id": "proof-attribute",
   "metadata": {},
   "outputs": [
    {
     "data": {
      "text/plain": [
       "'\\n1. STEP: Import of the data into dataframes\\n'"
      ]
     },
     "execution_count": 3,
     "metadata": {},
     "output_type": "execute_result"
    }
   ],
   "source": [
    "\"\"\"\n",
    "1. STEP: Import of the data into dataframes\n",
    "\"\"\""
   ]
  },
  {
   "cell_type": "code",
   "execution_count": 4,
   "id": "intimate-champagne",
   "metadata": {},
   "outputs": [],
   "source": [
    "# Import csv files with particular parameters\n",
    "\n",
    "df_address_building = pd.read_csv(\"static/AddressBuilding.csv\", sep=';')\n",
    "df_address_company = pd.read_csv(\"static/AddressCompany.csv\", sep=';')\n",
    "df_company = pd.read_csv(\"static/Company.csv\", sep=';', index_col=0)"
   ]
  },
  {
   "cell_type": "code",
   "execution_count": 5,
   "id": "specified-huntington",
   "metadata": {},
   "outputs": [
    {
     "name": "stdout",
     "output_type": "stream",
     "text": [
      "(650, 11)\n"
     ]
    },
    {
     "data": {
      "text/html": [
       "<div>\n",
       "<style scoped>\n",
       "    .dataframe tbody tr th:only-of-type {\n",
       "        vertical-align: middle;\n",
       "    }\n",
       "\n",
       "    .dataframe tbody tr th {\n",
       "        vertical-align: top;\n",
       "    }\n",
       "\n",
       "    .dataframe thead th {\n",
       "        text-align: right;\n",
       "    }\n",
       "</style>\n",
       "<table border=\"1\" class=\"dataframe\">\n",
       "  <thead>\n",
       "    <tr style=\"text-align: right;\">\n",
       "      <th></th>\n",
       "      <th>AddressCode</th>\n",
       "      <th>AddressText</th>\n",
       "      <th>ObjectCode</th>\n",
       "      <th>CompletedAt</th>\n",
       "      <th>UsageCode</th>\n",
       "      <th>UsageLabel</th>\n",
       "      <th>Area</th>\n",
       "      <th>FloorCount</th>\n",
       "      <th>FlatCount</th>\n",
       "      <th>ElevatorCode</th>\n",
       "      <th>ElevatorLabel</th>\n",
       "    </tr>\n",
       "  </thead>\n",
       "  <tbody>\n",
       "    <tr>\n",
       "      <th>68</th>\n",
       "      <td>22354964</td>\n",
       "      <td>Nekvasilova 589/5, Praha, 18600</td>\n",
       "      <td>22217495</td>\n",
       "      <td>NaN</td>\n",
       "      <td>6</td>\n",
       "      <td>bytový dům</td>\n",
       "      <td>NaN</td>\n",
       "      <td>NaN</td>\n",
       "      <td>123.0</td>\n",
       "      <td>NaN</td>\n",
       "      <td>NaN</td>\n",
       "    </tr>\n",
       "    <tr>\n",
       "      <th>438</th>\n",
       "      <td>22351710</td>\n",
       "      <td>Pobřežní 299/8, Praha, 18600</td>\n",
       "      <td>22214798</td>\n",
       "      <td>NaN</td>\n",
       "      <td>5</td>\n",
       "      <td>objekt občanské vybavenosti</td>\n",
       "      <td>NaN</td>\n",
       "      <td>1.0</td>\n",
       "      <td>0.0</td>\n",
       "      <td>9.0</td>\n",
       "      <td>Nezjištěno</td>\n",
       "    </tr>\n",
       "    <tr>\n",
       "      <th>374</th>\n",
       "      <td>22354891</td>\n",
       "      <td>Molákova 582/22, Praha, 18600</td>\n",
       "      <td>22217410</td>\n",
       "      <td>NaN</td>\n",
       "      <td>6</td>\n",
       "      <td>bytový dům</td>\n",
       "      <td>NaN</td>\n",
       "      <td>NaN</td>\n",
       "      <td>36.0</td>\n",
       "      <td>NaN</td>\n",
       "      <td>NaN</td>\n",
       "    </tr>\n",
       "  </tbody>\n",
       "</table>\n",
       "</div>"
      ],
      "text/plain": [
       "     AddressCode                      AddressText  ObjectCode CompletedAt  \\\n",
       "68      22354964  Nekvasilova 589/5, Praha, 18600    22217495         NaN   \n",
       "438     22351710     Pobřežní 299/8, Praha, 18600    22214798         NaN   \n",
       "374     22354891    Molákova 582/22, Praha, 18600    22217410         NaN   \n",
       "\n",
       "     UsageCode                   UsageLabel  Area  FloorCount  FlatCount  \\\n",
       "68           6                   bytový dům   NaN         NaN      123.0   \n",
       "438          5  objekt občanské vybavenosti   NaN         1.0        0.0   \n",
       "374          6                   bytový dům   NaN         NaN       36.0   \n",
       "\n",
       "     ElevatorCode ElevatorLabel  \n",
       "68            NaN           NaN  \n",
       "438           9.0    Nezjištěno  \n",
       "374           NaN           NaN  "
      ]
     },
     "execution_count": 5,
     "metadata": {},
     "output_type": "execute_result"
    }
   ],
   "source": [
    "# Display the shape and the sample of imported dataframe\n",
    "\n",
    "print(df_address_building.shape)\n",
    "df_address_building.sample(3)"
   ]
  },
  {
   "cell_type": "code",
   "execution_count": 6,
   "id": "visible-queue",
   "metadata": {},
   "outputs": [
    {
     "name": "stdout",
     "output_type": "stream",
     "text": [
      "(13653, 5)\n"
     ]
    },
    {
     "data": {
      "text/html": [
       "<div>\n",
       "<style scoped>\n",
       "    .dataframe tbody tr th:only-of-type {\n",
       "        vertical-align: middle;\n",
       "    }\n",
       "\n",
       "    .dataframe tbody tr th {\n",
       "        vertical-align: top;\n",
       "    }\n",
       "\n",
       "    .dataframe thead th {\n",
       "        text-align: right;\n",
       "    }\n",
       "</style>\n",
       "<table border=\"1\" class=\"dataframe\">\n",
       "  <thead>\n",
       "    <tr style=\"text-align: right;\">\n",
       "      <th></th>\n",
       "      <th>AddressCode</th>\n",
       "      <th>Latitude</th>\n",
       "      <th>Longitude</th>\n",
       "      <th>CompanyIN</th>\n",
       "      <th>IsHq</th>\n",
       "    </tr>\n",
       "  </thead>\n",
       "  <tbody>\n",
       "    <tr>\n",
       "      <th>6471</th>\n",
       "      <td>26653036</td>\n",
       "      <td>50,09430054</td>\n",
       "      <td>14,44771569</td>\n",
       "      <td>28369319</td>\n",
       "      <td>1</td>\n",
       "    </tr>\n",
       "    <tr>\n",
       "      <th>8836</th>\n",
       "      <td>22351825</td>\n",
       "      <td>50,0894764</td>\n",
       "      <td>14,4455165</td>\n",
       "      <td>67755755</td>\n",
       "      <td>1</td>\n",
       "    </tr>\n",
       "    <tr>\n",
       "      <th>5111</th>\n",
       "      <td>22354816</td>\n",
       "      <td>50,0964393</td>\n",
       "      <td>14,46548775</td>\n",
       "      <td>43018530</td>\n",
       "      <td>1</td>\n",
       "    </tr>\n",
       "  </tbody>\n",
       "</table>\n",
       "</div>"
      ],
      "text/plain": [
       "      AddressCode     Latitude    Longitude  CompanyIN  IsHq\n",
       "6471     26653036  50,09430054  14,44771569   28369319     1\n",
       "8836     22351825   50,0894764   14,4455165   67755755     1\n",
       "5111     22354816   50,0964393  14,46548775   43018530     1"
      ]
     },
     "execution_count": 6,
     "metadata": {},
     "output_type": "execute_result"
    }
   ],
   "source": [
    "# Display the shape and the sample of imported dataframe\n",
    "\n",
    "print(df_address_company.shape)\n",
    "df_address_company.sample(3)"
   ]
  },
  {
   "cell_type": "code",
   "execution_count": 7,
   "id": "united-nerve",
   "metadata": {},
   "outputs": [
    {
     "name": "stdout",
     "output_type": "stream",
     "text": [
      "(13642, 8)\n"
     ]
    },
    {
     "data": {
      "text/html": [
       "<div>\n",
       "<style scoped>\n",
       "    .dataframe tbody tr th:only-of-type {\n",
       "        vertical-align: middle;\n",
       "    }\n",
       "\n",
       "    .dataframe tbody tr th {\n",
       "        vertical-align: top;\n",
       "    }\n",
       "\n",
       "    .dataframe thead th {\n",
       "        text-align: right;\n",
       "    }\n",
       "</style>\n",
       "<table border=\"1\" class=\"dataframe\">\n",
       "  <thead>\n",
       "    <tr style=\"text-align: right;\">\n",
       "      <th></th>\n",
       "      <th>LegalFormID</th>\n",
       "      <th>LegalFormName</th>\n",
       "      <th>EmployeeLowerBound</th>\n",
       "      <th>ActivityScore</th>\n",
       "      <th>NaceCode</th>\n",
       "      <th>Nace</th>\n",
       "      <th>NaceSectionCode</th>\n",
       "      <th>NaceSection</th>\n",
       "    </tr>\n",
       "    <tr>\n",
       "      <th>CompanyIN</th>\n",
       "      <th></th>\n",
       "      <th></th>\n",
       "      <th></th>\n",
       "      <th></th>\n",
       "      <th></th>\n",
       "      <th></th>\n",
       "      <th></th>\n",
       "      <th></th>\n",
       "    </tr>\n",
       "  </thead>\n",
       "  <tbody>\n",
       "    <tr>\n",
       "      <th>28189264</th>\n",
       "      <td>112.0</td>\n",
       "      <td>Společnost s r.o.</td>\n",
       "      <td>25.0</td>\n",
       "      <td>98.0</td>\n",
       "      <td>52290</td>\n",
       "      <td>[52290] Ostatní vedlejší činnosti v dopravě</td>\n",
       "      <td>H</td>\n",
       "      <td>[H] Doprava a skladování</td>\n",
       "    </tr>\n",
       "    <tr>\n",
       "      <th>8048452</th>\n",
       "      <td>112.0</td>\n",
       "      <td>Společnost s r.o.</td>\n",
       "      <td>NaN</td>\n",
       "      <td>NaN</td>\n",
       "      <td>731</td>\n",
       "      <td>[731] Reklamní činnosti</td>\n",
       "      <td>M</td>\n",
       "      <td>[M] Profesní, vědecké a technické činnosti</td>\n",
       "    </tr>\n",
       "    <tr>\n",
       "      <th>3648851</th>\n",
       "      <td>112.0</td>\n",
       "      <td>Společnost s r.o.</td>\n",
       "      <td>1.0</td>\n",
       "      <td>46.0</td>\n",
       "      <td>74</td>\n",
       "      <td>[74] Ostatní profesní, vědecké a technické čin...</td>\n",
       "      <td>M</td>\n",
       "      <td>[M] Profesní, vědecké a technické činnosti</td>\n",
       "    </tr>\n",
       "  </tbody>\n",
       "</table>\n",
       "</div>"
      ],
      "text/plain": [
       "           LegalFormID      LegalFormName  EmployeeLowerBound  ActivityScore  \\\n",
       "CompanyIN                                                                      \n",
       "28189264         112.0  Společnost s r.o.                25.0           98.0   \n",
       "8048452          112.0  Společnost s r.o.                 NaN            NaN   \n",
       "3648851          112.0  Společnost s r.o.                 1.0           46.0   \n",
       "\n",
       "          NaceCode                                               Nace  \\\n",
       "CompanyIN                                                               \n",
       "28189264     52290        [52290] Ostatní vedlejší činnosti v dopravě   \n",
       "8048452        731                            [731] Reklamní činnosti   \n",
       "3648851         74  [74] Ostatní profesní, vědecké a technické čin...   \n",
       "\n",
       "          NaceSectionCode                                 NaceSection  \n",
       "CompanyIN                                                              \n",
       "28189264                H                    [H] Doprava a skladování  \n",
       "8048452                 M  [M] Profesní, vědecké a technické činnosti  \n",
       "3648851                 M  [M] Profesní, vědecké a technické činnosti  "
      ]
     },
     "execution_count": 7,
     "metadata": {},
     "output_type": "execute_result"
    }
   ],
   "source": [
    "# Display the shape and the sample of imported dataframe\n",
    "\n",
    "print(df_company.shape)\n",
    "df_company.sample(3)"
   ]
  },
  {
   "cell_type": "code",
   "execution_count": 8,
   "id": "wanted-helena",
   "metadata": {},
   "outputs": [
    {
     "data": {
      "text/plain": [
       "'\\n2. STEP: Data cleaning\\ndf_address_building\\n'"
      ]
     },
     "execution_count": 8,
     "metadata": {},
     "output_type": "execute_result"
    }
   ],
   "source": [
    "\"\"\"\n",
    "2. STEP: Data cleaning\n",
    "df_address_building\n",
    "\"\"\""
   ]
  },
  {
   "cell_type": "code",
   "execution_count": 9,
   "id": "serious-pulse",
   "metadata": {},
   "outputs": [
    {
     "data": {
      "text/plain": [
       "AddressCode        0\n",
       "AddressText        0\n",
       "ObjectCode         0\n",
       "CompletedAt      550\n",
       "UsageCode          0\n",
       "UsageLabel         0\n",
       "Area             568\n",
       "FloorCount        75\n",
       "FlatCount          2\n",
       "ElevatorCode      72\n",
       "ElevatorLabel     72\n",
       "dtype: int64"
      ]
     },
     "execution_count": 9,
     "metadata": {},
     "output_type": "execute_result"
    }
   ],
   "source": [
    "# Identify missing values - NaN  \n",
    "df_address_building.isna().sum()"
   ]
  },
  {
   "cell_type": "code",
   "execution_count": 10,
   "id": "electric-shooting",
   "metadata": {},
   "outputs": [
    {
     "data": {
      "text/plain": [
       "AddressCode      650\n",
       "AddressText      650\n",
       "ObjectCode       650\n",
       "CompletedAt      100\n",
       "UsageCode        650\n",
       "UsageLabel       650\n",
       "Area              82\n",
       "FloorCount       575\n",
       "FlatCount        648\n",
       "ElevatorCode     578\n",
       "ElevatorLabel    578\n",
       "dtype: int64"
      ]
     },
     "execution_count": 10,
     "metadata": {},
     "output_type": "execute_result"
    }
   ],
   "source": [
    "# Display counts of valid data\n",
    "df_address_building.count()"
   ]
  },
  {
   "cell_type": "code",
   "execution_count": 11,
   "id": "legendary-retailer",
   "metadata": {},
   "outputs": [],
   "source": [
    "# Remove the rows where is no information about counts of floors and flats or an elevator\n",
    "# The removal will result in 13,3 % row reduction which seems to me as acceptable\n",
    "\n",
    "df_address_building = df_address_building.dropna(subset=[\"FloorCount\", \"FlatCount\", \"ElevatorCode\"])"
   ]
  },
  {
   "cell_type": "code",
   "execution_count": 12,
   "id": "available-charleston",
   "metadata": {},
   "outputs": [
    {
     "data": {
      "text/plain": [
       "AddressCode      563\n",
       "AddressText      563\n",
       "ObjectCode       563\n",
       "CompletedAt       86\n",
       "UsageCode        563\n",
       "UsageLabel       563\n",
       "Area              71\n",
       "FloorCount       563\n",
       "FlatCount        563\n",
       "ElevatorCode     563\n",
       "ElevatorLabel    563\n",
       "dtype: int64"
      ]
     },
     "execution_count": 12,
     "metadata": {},
     "output_type": "execute_result"
    }
   ],
   "source": [
    "df_address_building.count()"
   ]
  },
  {
   "cell_type": "code",
   "execution_count": 13,
   "id": "decent-prerequisite",
   "metadata": {},
   "outputs": [],
   "source": [
    "# Remove colums which are populated by data only on 15 % of all rows\n",
    "\n",
    "df_address_building = df_address_building.drop(columns=['CompletedAt', 'Area'])"
   ]
  },
  {
   "cell_type": "code",
   "execution_count": 14,
   "id": "integral-routine",
   "metadata": {},
   "outputs": [
    {
     "data": {
      "text/plain": [
       "AddressCode      563\n",
       "AddressText      563\n",
       "ObjectCode       563\n",
       "UsageCode        563\n",
       "UsageLabel       563\n",
       "FloorCount       563\n",
       "FlatCount        563\n",
       "ElevatorCode     563\n",
       "ElevatorLabel    563\n",
       "dtype: int64"
      ]
     },
     "execution_count": 14,
     "metadata": {},
     "output_type": "execute_result"
    }
   ],
   "source": [
    "df_address_building.count()"
   ]
  },
  {
   "cell_type": "code",
   "execution_count": 15,
   "id": "advance-pacific",
   "metadata": {},
   "outputs": [
    {
     "data": {
      "text/plain": [
       "'\\n2. STEP: Data cleaning\\ndf_address_company\\n'"
      ]
     },
     "execution_count": 15,
     "metadata": {},
     "output_type": "execute_result"
    }
   ],
   "source": [
    "\"\"\"\n",
    "2. STEP: Data cleaning\n",
    "df_address_company\n",
    "\"\"\""
   ]
  },
  {
   "cell_type": "code",
   "execution_count": 16,
   "id": "immediate-tyler",
   "metadata": {},
   "outputs": [
    {
     "data": {
      "text/plain": [
       "AddressCode    0\n",
       "Latitude       0\n",
       "Longitude      0\n",
       "CompanyIN      0\n",
       "IsHq           0\n",
       "dtype: int64"
      ]
     },
     "execution_count": 16,
     "metadata": {},
     "output_type": "execute_result"
    }
   ],
   "source": [
    "# Identify the NaN values\n",
    "df_address_company.isna().sum()\n",
    "\n",
    "# OBSERVATION: no NaN values identified in df_address_company thus no data cleaning needed"
   ]
  },
  {
   "cell_type": "code",
   "execution_count": 17,
   "id": "sudden-movement",
   "metadata": {},
   "outputs": [
    {
     "data": {
      "text/plain": [
       "'\\n2. STEP: Data cleaning\\ndf_company\\n'"
      ]
     },
     "execution_count": 17,
     "metadata": {},
     "output_type": "execute_result"
    }
   ],
   "source": [
    "\"\"\"\n",
    "2. STEP: Data cleaning\n",
    "df_company\n",
    "\"\"\""
   ]
  },
  {
   "cell_type": "code",
   "execution_count": 18,
   "id": "referenced-medicare",
   "metadata": {},
   "outputs": [
    {
     "data": {
      "text/plain": [
       "LegalFormID             38\n",
       "LegalFormName           38\n",
       "EmployeeLowerBound    8020\n",
       "ActivityScore         7463\n",
       "NaceCode               240\n",
       "Nace                   240\n",
       "NaceSectionCode        240\n",
       "NaceSection            240\n",
       "dtype: int64"
      ]
     },
     "execution_count": 18,
     "metadata": {},
     "output_type": "execute_result"
    }
   ],
   "source": [
    "# Identify the NaN values\n",
    "\n",
    "df_company.isna().sum()"
   ]
  },
  {
   "cell_type": "code",
   "execution_count": 19,
   "id": "vocal-crisis",
   "metadata": {},
   "outputs": [
    {
     "data": {
      "text/plain": [
       "LegalFormID           13604\n",
       "LegalFormName         13604\n",
       "EmployeeLowerBound     5622\n",
       "ActivityScore          6179\n",
       "NaceCode              13402\n",
       "Nace                  13402\n",
       "NaceSectionCode       13402\n",
       "NaceSection           13402\n",
       "dtype: int64"
      ]
     },
     "execution_count": 19,
     "metadata": {},
     "output_type": "execute_result"
    }
   ],
   "source": [
    "# Valid data count\n",
    "\n",
    "df_company.count()"
   ]
  },
  {
   "cell_type": "code",
   "execution_count": 20,
   "id": "celtic-buyer",
   "metadata": {},
   "outputs": [
    {
     "data": {
      "text/plain": [
       "LegalFormID           5618\n",
       "LegalFormName         5618\n",
       "EmployeeLowerBound    5622\n",
       "ActivityScore         3523\n",
       "NaceCode              5564\n",
       "Nace                  5564\n",
       "NaceSectionCode       5564\n",
       "NaceSection           5564\n",
       "dtype: int64"
      ]
     },
     "execution_count": 20,
     "metadata": {},
     "output_type": "execute_result"
    }
   ],
   "source": [
    "# The removal of rows with NaN values in columns EmployeeLowerBound and ActivityScore\n",
    "# would shrink the dataframe to the 25 % of its original size\n",
    "# which seems to me as too much...\n",
    "\n",
    "# The removal of rows with NaN values ONLY in columns EmployeeLowerBound\n",
    "# would shrink the dataframe to the 41 % of its original size\n",
    "# which seems acceptable for the puropse of this case study.\n",
    "\n",
    "# Knowledge of the EmployeeLowerBound is an important factor which can help a lot in order to determinate\n",
    "# whether the building is office building or not.\n",
    "\n",
    "\n",
    "# If it were real task I would suggest to A/B test both options and compare the obtained results\n",
    "# or try to come up with something else - better :)\n",
    "\n",
    "\n",
    "df_company = df_company.dropna(subset=[\"EmployeeLowerBound\"])\n",
    "df_company.count()"
   ]
  },
  {
   "cell_type": "code",
   "execution_count": 21,
   "id": "strong-romantic",
   "metadata": {},
   "outputs": [
    {
     "data": {
      "text/plain": [
       "'\\n3. STEP: Office building indicator - ideas behind hypothesis\\n\\n\\nWhat data determines an office building?\\n\\nYour Hint1 suggests to use numbers and sizes of companies residing on a particular Address Code\\nso I can use the sum of companies on a particular Address Code and EmployeeLowerBound (=sizes) \\nas components of the \"Office Building Indicator\"\\n\\nI also can hardly imagine to have an office building without elevator.\\nAnother good component of the indicator could be FlatCount = 0.\\n\\n'"
      ]
     },
     "execution_count": 21,
     "metadata": {},
     "output_type": "execute_result"
    }
   ],
   "source": [
    "\"\"\"\n",
    "3. STEP: Office building indicator - ideas behind hypothesis\n",
    "\n",
    "\n",
    "What data determines an office building?\n",
    "\n",
    "Hint1 suggests to use numbers and sizes of companies residing on a particular Address Code\n",
    "so I can use the sum of companies on a particular Address Code and EmployeeLowerBound (=sizes) \n",
    "as components of the \"Office Building Indicator\"\n",
    "\n",
    "I also can hardly imagine to have an office building without elevator.\n",
    "Another good component of the indicator could be FlatCount = 0.\n",
    "\n",
    "\"\"\""
   ]
  },
  {
   "cell_type": "code",
   "execution_count": 22,
   "id": "prerequisite-rainbow",
   "metadata": {},
   "outputs": [
    {
     "data": {
      "text/plain": [
       "'\\n3. STEP: Office building indicator \\n- hypothesis\\n\\n\\nOffice building is a building where:\\n\\nresides multiple companies\\nwhich have higher EmployeeLowerBound,\\nis equipped with an elevator \\nand ideally have zero flatCount.\\n\\n'"
      ]
     },
     "execution_count": 22,
     "metadata": {},
     "output_type": "execute_result"
    }
   ],
   "source": [
    "\"\"\"\n",
    "3. STEP: Office building indicator \n",
    "- hypothesis\n",
    "\n",
    "\n",
    "Office building is a building where:\n",
    "\n",
    "resides multiple companies\n",
    "which have higher EmployeeLowerBound\n",
    "is equipped with an elevator \n",
    "and ideally have zero flatCount.\n",
    "\"\"\""
   ]
  },
  {
   "cell_type": "code",
   "execution_count": 23,
   "id": "primary-celebrity",
   "metadata": {},
   "outputs": [
    {
     "data": {
      "text/plain": [
       "'\\n3. STEP: Office building indicator - components\\nNumber of companies which resides on Address Code\\n\\n==> will be obtained by aggregation function\\n'"
      ]
     },
     "execution_count": 23,
     "metadata": {},
     "output_type": "execute_result"
    }
   ],
   "source": [
    "\"\"\"\n",
    "3. STEP: Office building indicator - components\n",
    "Number of companies which resides on Address Code\n",
    "\n",
    "==> will be obtained by aggregation function\n",
    "\"\"\""
   ]
  },
  {
   "cell_type": "code",
   "execution_count": 24,
   "id": "elect-attack",
   "metadata": {},
   "outputs": [
    {
     "data": {
      "text/plain": [
       "LegalFormID           float64\n",
       "LegalFormName          object\n",
       "EmployeeLowerBound    float64\n",
       "ActivityScore         float64\n",
       "NaceCode               object\n",
       "Nace                   object\n",
       "NaceSectionCode        object\n",
       "NaceSection            object\n",
       "dtype: object"
      ]
     },
     "execution_count": 24,
     "metadata": {},
     "output_type": "execute_result"
    }
   ],
   "source": [
    "\"\"\"\n",
    "3. STEP: Office building indicator - components\n",
    "EmployeeLowerBound\n",
    "\"\"\"\n",
    "\n",
    "# Check the suitability of the data type\n",
    "\n",
    "df_company.dtypes\n",
    "\n",
    "# ===> The column EmployeeLowerBound has a propriet datatype (float64) for a further processing"
   ]
  },
  {
   "cell_type": "code",
   "execution_count": 25,
   "id": "rotary-integration",
   "metadata": {},
   "outputs": [
    {
     "data": {
      "text/plain": [
       "AddressCode        int64\n",
       "AddressText       object\n",
       "ObjectCode         int64\n",
       "UsageCode          int64\n",
       "UsageLabel        object\n",
       "FloorCount       float64\n",
       "FlatCount        float64\n",
       "ElevatorCode     float64\n",
       "ElevatorLabel     object\n",
       "dtype: object"
      ]
     },
     "execution_count": 25,
     "metadata": {},
     "output_type": "execute_result"
    }
   ],
   "source": [
    "\"\"\"\n",
    "3. STEP: Office building indicator - components\n",
    "ElevatorCode=1.0 (=> ElevatorLabel \"s výtahem\")\n",
    "\"\"\"\n",
    "\n",
    "# Check the suitability of the data type\n",
    "df_address_building.dtypes"
   ]
  },
  {
   "cell_type": "code",
   "execution_count": 26,
   "id": "forward-closing",
   "metadata": {},
   "outputs": [
    {
     "data": {
      "text/plain": [
       "AddressCode      59\n",
       "AddressText      59\n",
       "ObjectCode       59\n",
       "UsageCode        59\n",
       "UsageLabel       59\n",
       "FloorCount       59\n",
       "FlatCount        59\n",
       "ElevatorCode     59\n",
       "ElevatorLabel    59\n",
       "dtype: int64"
      ]
     },
     "execution_count": 26,
     "metadata": {},
     "output_type": "execute_result"
    }
   ],
   "source": [
    "#  Check of a suitability of a data type\n",
    "\n",
    "df_address_building[df_address_building['ElevatorLabel']=='Nezjištěno'].count()\n",
    "\n",
    "# Not sure about this but I drop rows where ElevatorCode = 9.0 (=ElevatorLabel=Nezjištěno)\n",
    "# However this results in loosing another 59 rows"
   ]
  },
  {
   "cell_type": "code",
   "execution_count": 27,
   "id": "european-collins",
   "metadata": {},
   "outputs": [],
   "source": [
    "# Remove rows that don't have information about the elevator\n",
    "\n",
    "df_address_building = df_address_building[df_address_building.ElevatorLabel != 'Nezjištěno']"
   ]
  },
  {
   "cell_type": "code",
   "execution_count": 28,
   "id": "hundred-belize",
   "metadata": {},
   "outputs": [
    {
     "data": {
      "text/plain": [
       "AddressCode      504\n",
       "AddressText      504\n",
       "ObjectCode       504\n",
       "UsageCode        504\n",
       "UsageLabel       504\n",
       "FloorCount       504\n",
       "FlatCount        504\n",
       "ElevatorCode     504\n",
       "ElevatorLabel    504\n",
       "dtype: int64"
      ]
     },
     "execution_count": 28,
     "metadata": {},
     "output_type": "execute_result"
    }
   ],
   "source": [
    "df_address_building.count()"
   ]
  },
  {
   "cell_type": "code",
   "execution_count": 29,
   "id": "placed-divide",
   "metadata": {},
   "outputs": [
    {
     "data": {
      "text/plain": [
       "'\\n3. STEP: Office building indicator - components\\nFlatCount=0\\n'"
      ]
     },
     "execution_count": 29,
     "metadata": {},
     "output_type": "execute_result"
    }
   ],
   "source": [
    "\"\"\"\n",
    "3. STEP: Office building indicator - components\n",
    "FlatCount=0\n",
    "\"\"\""
   ]
  },
  {
   "cell_type": "code",
   "execution_count": 30,
   "id": "loving-smart",
   "metadata": {},
   "outputs": [
    {
     "data": {
      "text/plain": [
       "AddressCode      86\n",
       "AddressText      86\n",
       "ObjectCode       86\n",
       "UsageCode        86\n",
       "UsageLabel       86\n",
       "FloorCount       86\n",
       "FlatCount        86\n",
       "ElevatorCode     86\n",
       "ElevatorLabel    86\n",
       "dtype: int64"
      ]
     },
     "execution_count": 30,
     "metadata": {},
     "output_type": "execute_result"
    }
   ],
   "source": [
    "df_address_building[df_address_building['FlatCount']==0].count()"
   ]
  },
  {
   "cell_type": "code",
   "execution_count": 31,
   "id": "surprising-arcade",
   "metadata": {},
   "outputs": [
    {
     "data": {
      "text/plain": [
       "'\\n3. STEP: Office building indicator - components\\nUsageCode = 14 (=> UsageLagel \"stavba pro administrativu\")\\n'"
      ]
     },
     "execution_count": 31,
     "metadata": {},
     "output_type": "execute_result"
    }
   ],
   "source": [
    "\"\"\"\n",
    "3. STEP: Office building indicator - components\n",
    "UsageCode = 14 (=> UsageLagel \"stavba pro administrativu\")\n",
    "\"\"\""
   ]
  },
  {
   "cell_type": "code",
   "execution_count": 32,
   "id": "ranging-blowing",
   "metadata": {},
   "outputs": [
    {
     "data": {
      "text/plain": [
       "'\\n3. STEP: Office building indicator - components\\nOVERVIEW\\n\\nOffice building indicator is made by 5 criteria:\\nNumber of residing companies >= 10\\nEmployeeLowerBound >= 10\\nElevatorCode = 1.0\\nFlatCount = 0\\nUsageCode = 14 (=> UsageLagel \"stavba pro administrativu\")\\n'"
      ]
     },
     "execution_count": 32,
     "metadata": {},
     "output_type": "execute_result"
    }
   ],
   "source": [
    "\"\"\"\n",
    "3. STEP: Office building indicator - components\n",
    "OVERVIEW\n",
    "\n",
    "Office building indicator is made by 5 criteria:\n",
    "Number of residing companies >= 10\n",
    "EmployeeLowerBound >= 10\n",
    "ElevatorCode = 1.0\n",
    "FlatCount = 0\n",
    "UsageCode = 14 (=> UsageLagel \"stavba pro administrativu\")\n",
    "\"\"\""
   ]
  },
  {
   "cell_type": "code",
   "execution_count": 33,
   "id": "polish-biology",
   "metadata": {},
   "outputs": [
    {
     "data": {
      "text/plain": [
       "'\\n4. STEP: Merging dataframes\\n'"
      ]
     },
     "execution_count": 33,
     "metadata": {},
     "output_type": "execute_result"
    }
   ],
   "source": [
    "\"\"\"\n",
    "4. STEP: Merging dataframes\n",
    "\"\"\""
   ]
  },
  {
   "cell_type": "code",
   "execution_count": 34,
   "id": "tribal-sherman",
   "metadata": {},
   "outputs": [
    {
     "data": {
      "text/html": [
       "<div>\n",
       "<style scoped>\n",
       "    .dataframe tbody tr th:only-of-type {\n",
       "        vertical-align: middle;\n",
       "    }\n",
       "\n",
       "    .dataframe tbody tr th {\n",
       "        vertical-align: top;\n",
       "    }\n",
       "\n",
       "    .dataframe thead th {\n",
       "        text-align: right;\n",
       "    }\n",
       "</style>\n",
       "<table border=\"1\" class=\"dataframe\">\n",
       "  <thead>\n",
       "    <tr style=\"text-align: right;\">\n",
       "      <th></th>\n",
       "      <th>AddressCode</th>\n",
       "      <th>Latitude</th>\n",
       "      <th>Longitude</th>\n",
       "      <th>CompanyIN</th>\n",
       "      <th>IsHq</th>\n",
       "      <th>LegalFormID</th>\n",
       "      <th>LegalFormName</th>\n",
       "      <th>EmployeeLowerBound</th>\n",
       "      <th>ActivityScore</th>\n",
       "      <th>NaceCode</th>\n",
       "      <th>Nace</th>\n",
       "      <th>NaceSectionCode</th>\n",
       "      <th>NaceSection</th>\n",
       "    </tr>\n",
       "  </thead>\n",
       "  <tbody>\n",
       "    <tr>\n",
       "      <th>4626</th>\n",
       "      <td>22352961</td>\n",
       "      <td>50,09530178</td>\n",
       "      <td>14,45776356</td>\n",
       "      <td>27903371</td>\n",
       "      <td>1</td>\n",
       "      <td>112.0</td>\n",
       "      <td>Společnost s r.o.</td>\n",
       "      <td>1.0</td>\n",
       "      <td>82.0</td>\n",
       "      <td>56100</td>\n",
       "      <td>[56100] Stravování v restauracích, u stánků a ...</td>\n",
       "      <td>I</td>\n",
       "      <td>[I] Ubytování, stravování a pohostinství</td>\n",
       "    </tr>\n",
       "    <tr>\n",
       "      <th>11040</th>\n",
       "      <td>26703408</td>\n",
       "      <td>50,09372794</td>\n",
       "      <td>14,45050328</td>\n",
       "      <td>66029741</td>\n",
       "      <td>1</td>\n",
       "      <td>101.0</td>\n",
       "      <td>Fyz. os. podnikající dle živ. zákona</td>\n",
       "      <td>1.0</td>\n",
       "      <td>83.0</td>\n",
       "      <td>257</td>\n",
       "      <td>[257] Výroba nožířských výrobků, nástrojů a že...</td>\n",
       "      <td>C</td>\n",
       "      <td>[C] Zpracovatelský průmysl</td>\n",
       "    </tr>\n",
       "    <tr>\n",
       "      <th>11903</th>\n",
       "      <td>22352864</td>\n",
       "      <td>50,09478358</td>\n",
       "      <td>14,45847964</td>\n",
       "      <td>27623939</td>\n",
       "      <td>1</td>\n",
       "      <td>112.0</td>\n",
       "      <td>Společnost s r.o.</td>\n",
       "      <td>1.0</td>\n",
       "      <td>NaN</td>\n",
       "      <td>74300</td>\n",
       "      <td>[74300] Překladatelské a tlumočnické činnosti</td>\n",
       "      <td>M</td>\n",
       "      <td>[M] Profesní, vědecké a technické činnosti</td>\n",
       "    </tr>\n",
       "  </tbody>\n",
       "</table>\n",
       "</div>"
      ],
      "text/plain": [
       "       AddressCode     Latitude    Longitude  CompanyIN  IsHq  LegalFormID  \\\n",
       "4626      22352961  50,09530178  14,45776356   27903371     1        112.0   \n",
       "11040     26703408  50,09372794  14,45050328   66029741     1        101.0   \n",
       "11903     22352864  50,09478358  14,45847964   27623939     1        112.0   \n",
       "\n",
       "                              LegalFormName  EmployeeLowerBound  \\\n",
       "4626                      Společnost s r.o.                 1.0   \n",
       "11040  Fyz. os. podnikající dle živ. zákona                 1.0   \n",
       "11903                     Společnost s r.o.                 1.0   \n",
       "\n",
       "       ActivityScore NaceCode  \\\n",
       "4626            82.0    56100   \n",
       "11040           83.0      257   \n",
       "11903            NaN    74300   \n",
       "\n",
       "                                                    Nace NaceSectionCode  \\\n",
       "4626   [56100] Stravování v restauracích, u stánků a ...               I   \n",
       "11040  [257] Výroba nožířských výrobků, nástrojů a že...               C   \n",
       "11903      [74300] Překladatelské a tlumočnické činnosti               M   \n",
       "\n",
       "                                      NaceSection  \n",
       "4626     [I] Ubytování, stravování a pohostinství  \n",
       "11040                  [C] Zpracovatelský průmysl  \n",
       "11903  [M] Profesní, vědecké a technické činnosti  "
      ]
     },
     "execution_count": 34,
     "metadata": {},
     "output_type": "execute_result"
    }
   ],
   "source": [
    "df_company_merged = df_address_company\n",
    "df_company_merged = df_company_merged.merge(df_company, how='inner', on='CompanyIN', right_index=True)\n",
    "df_company_merged.sample(3)"
   ]
  },
  {
   "cell_type": "code",
   "execution_count": 35,
   "id": "widespread-attachment",
   "metadata": {},
   "outputs": [
    {
     "data": {
      "text/html": [
       "<div>\n",
       "<style scoped>\n",
       "    .dataframe tbody tr th:only-of-type {\n",
       "        vertical-align: middle;\n",
       "    }\n",
       "\n",
       "    .dataframe tbody tr th {\n",
       "        vertical-align: top;\n",
       "    }\n",
       "\n",
       "    .dataframe thead th {\n",
       "        text-align: right;\n",
       "    }\n",
       "</style>\n",
       "<table border=\"1\" class=\"dataframe\">\n",
       "  <thead>\n",
       "    <tr style=\"text-align: right;\">\n",
       "      <th></th>\n",
       "      <th>AddressCode</th>\n",
       "      <th>AddressText</th>\n",
       "      <th>ObjectCode</th>\n",
       "      <th>UsageCode</th>\n",
       "      <th>UsageLabel</th>\n",
       "      <th>FloorCount</th>\n",
       "      <th>FlatCount</th>\n",
       "      <th>ElevatorCode</th>\n",
       "      <th>ElevatorLabel</th>\n",
       "      <th>Latitude</th>\n",
       "      <th>...</th>\n",
       "      <th>CompanyIN</th>\n",
       "      <th>IsHq</th>\n",
       "      <th>LegalFormID</th>\n",
       "      <th>LegalFormName</th>\n",
       "      <th>EmployeeLowerBound</th>\n",
       "      <th>ActivityScore</th>\n",
       "      <th>NaceCode</th>\n",
       "      <th>Nace</th>\n",
       "      <th>NaceSectionCode</th>\n",
       "      <th>NaceSection</th>\n",
       "    </tr>\n",
       "  </thead>\n",
       "  <tbody>\n",
       "    <tr>\n",
       "      <th>3254</th>\n",
       "      <td>40315355</td>\n",
       "      <td>U Sluncové 666/12a, Praha, 18600</td>\n",
       "      <td>50624539</td>\n",
       "      <td>6</td>\n",
       "      <td>bytový dům</td>\n",
       "      <td>24.0</td>\n",
       "      <td>26.0</td>\n",
       "      <td>1.0</td>\n",
       "      <td>S výtahem</td>\n",
       "      <td>50,0981153</td>\n",
       "      <td>...</td>\n",
       "      <td>7420994.0</td>\n",
       "      <td>1.0</td>\n",
       "      <td>117.0</td>\n",
       "      <td>Nadace</td>\n",
       "      <td>1.0</td>\n",
       "      <td>56.0</td>\n",
       "      <td>9499</td>\n",
       "      <td>[9499] Činnosti ost. organizací za účelem pros...</td>\n",
       "      <td>S</td>\n",
       "      <td>[S] Ostatní činnosti</td>\n",
       "    </tr>\n",
       "    <tr>\n",
       "      <th>3377</th>\n",
       "      <td>22349324</td>\n",
       "      <td>Pobřežní 80/38, Praha, 18600</td>\n",
       "      <td>22212761</td>\n",
       "      <td>3</td>\n",
       "      <td>objekt k bydlení</td>\n",
       "      <td>1.0</td>\n",
       "      <td>7.0</td>\n",
       "      <td>2.0</td>\n",
       "      <td>Bez výtahu</td>\n",
       "      <td>50,09378701</td>\n",
       "      <td>...</td>\n",
       "      <td>71721495.0</td>\n",
       "      <td>0.0</td>\n",
       "      <td>101.0</td>\n",
       "      <td>Fyz. os. podnikající dle živ. zákona</td>\n",
       "      <td>0.0</td>\n",
       "      <td>56.0</td>\n",
       "      <td>73110</td>\n",
       "      <td>[73110] Činnosti reklamních agentur</td>\n",
       "      <td>M</td>\n",
       "      <td>[M] Profesní, vědecké a technické činnosti</td>\n",
       "    </tr>\n",
       "    <tr>\n",
       "      <th>1358</th>\n",
       "      <td>22352317</td>\n",
       "      <td>Pobřežní 370/4, Praha, 18600</td>\n",
       "      <td>22215352</td>\n",
       "      <td>5</td>\n",
       "      <td>objekt občanské vybavenosti</td>\n",
       "      <td>1.0</td>\n",
       "      <td>0.0</td>\n",
       "      <td>2.0</td>\n",
       "      <td>Bez výtahu</td>\n",
       "      <td>50,09202853</td>\n",
       "      <td>...</td>\n",
       "      <td>24301698.0</td>\n",
       "      <td>1.0</td>\n",
       "      <td>421.0</td>\n",
       "      <td>Odšt.záv.zahr.práv.os.</td>\n",
       "      <td>1.0</td>\n",
       "      <td>81.0</td>\n",
       "      <td>18200</td>\n",
       "      <td>[18200] Rozmnožování nahraných nosičů</td>\n",
       "      <td>C</td>\n",
       "      <td>[C] Zpracovatelský průmysl</td>\n",
       "    </tr>\n",
       "  </tbody>\n",
       "</table>\n",
       "<p>3 rows × 21 columns</p>\n",
       "</div>"
      ],
      "text/plain": [
       "      AddressCode                       AddressText  ObjectCode  UsageCode  \\\n",
       "3254     40315355  U Sluncové 666/12a, Praha, 18600    50624539          6   \n",
       "3377     22349324      Pobřežní 80/38, Praha, 18600    22212761          3   \n",
       "1358     22352317      Pobřežní 370/4, Praha, 18600    22215352          5   \n",
       "\n",
       "                       UsageLabel  FloorCount  FlatCount  ElevatorCode  \\\n",
       "3254                   bytový dům        24.0       26.0           1.0   \n",
       "3377             objekt k bydlení         1.0        7.0           2.0   \n",
       "1358  objekt občanské vybavenosti         1.0        0.0           2.0   \n",
       "\n",
       "     ElevatorLabel     Latitude  ...   CompanyIN  IsHq  LegalFormID  \\\n",
       "3254     S výtahem   50,0981153  ...   7420994.0   1.0        117.0   \n",
       "3377    Bez výtahu  50,09378701  ...  71721495.0   0.0        101.0   \n",
       "1358    Bez výtahu  50,09202853  ...  24301698.0   1.0        421.0   \n",
       "\n",
       "                             LegalFormName EmployeeLowerBound  ActivityScore  \\\n",
       "3254                                Nadace                1.0           56.0   \n",
       "3377  Fyz. os. podnikající dle živ. zákona                0.0           56.0   \n",
       "1358                Odšt.záv.zahr.práv.os.                1.0           81.0   \n",
       "\n",
       "      NaceCode                                               Nace  \\\n",
       "3254      9499  [9499] Činnosti ost. organizací za účelem pros...   \n",
       "3377     73110                [73110] Činnosti reklamních agentur   \n",
       "1358     18200              [18200] Rozmnožování nahraných nosičů   \n",
       "\n",
       "     NaceSectionCode                                 NaceSection  \n",
       "3254               S                        [S] Ostatní činnosti  \n",
       "3377               M  [M] Profesní, vědecké a technické činnosti  \n",
       "1358               C                  [C] Zpracovatelský průmysl  \n",
       "\n",
       "[3 rows x 21 columns]"
      ]
     },
     "execution_count": 35,
     "metadata": {},
     "output_type": "execute_result"
    }
   ],
   "source": [
    "df_final_merge = df_address_building.merge(df_company_merged, how='left', on='AddressCode')\n",
    "df_final_merge.sample(3)"
   ]
  },
  {
   "cell_type": "code",
   "execution_count": 36,
   "id": "familiar-anthropology",
   "metadata": {},
   "outputs": [
    {
     "name": "stdout",
     "output_type": "stream",
     "text": [
      "(504, 9) = 504\n"
     ]
    }
   ],
   "source": [
    "# Check whether no rows have got lost during merging\n",
    "\n",
    "\"\"\" CONTROL CHECK\"\"\"\n",
    "print(df_address_building.shape,'=', df_final_merge['AddressCode'].nunique())"
   ]
  },
  {
   "cell_type": "code",
   "execution_count": 37,
   "id": "searching-runner",
   "metadata": {},
   "outputs": [
    {
     "data": {
      "text/plain": [
       "'\\n5. STEP: Obtaining aggregated data\\n'"
      ]
     },
     "execution_count": 37,
     "metadata": {},
     "output_type": "execute_result"
    }
   ],
   "source": [
    "\"\"\"\n",
    "5. STEP: Obtaining aggregated data\n",
    "\"\"\""
   ]
  },
  {
   "cell_type": "code",
   "execution_count": 38,
   "id": "irish-roman",
   "metadata": {},
   "outputs": [],
   "source": [
    "# Sum the companies on a particular Address Code\n",
    "\n",
    "companies_on_address_code_sum = df_final_merge.groupby('AddressCode').size()"
   ]
  },
  {
   "cell_type": "code",
   "execution_count": 39,
   "id": "ranking-dancing",
   "metadata": {},
   "outputs": [
    {
     "data": {
      "text/html": [
       "<div>\n",
       "<style scoped>\n",
       "    .dataframe tbody tr th:only-of-type {\n",
       "        vertical-align: middle;\n",
       "    }\n",
       "\n",
       "    .dataframe tbody tr th {\n",
       "        vertical-align: top;\n",
       "    }\n",
       "\n",
       "    .dataframe thead th {\n",
       "        text-align: right;\n",
       "    }\n",
       "</style>\n",
       "<table border=\"1\" class=\"dataframe\">\n",
       "  <thead>\n",
       "    <tr style=\"text-align: right;\">\n",
       "      <th></th>\n",
       "      <th>AddressCode</th>\n",
       "      <th>AddressText</th>\n",
       "      <th>ObjectCode</th>\n",
       "      <th>UsageCode</th>\n",
       "      <th>UsageLabel</th>\n",
       "      <th>FloorCount</th>\n",
       "      <th>FlatCount</th>\n",
       "      <th>ElevatorCode</th>\n",
       "      <th>ElevatorLabel</th>\n",
       "      <th>CompanySum</th>\n",
       "    </tr>\n",
       "  </thead>\n",
       "  <tbody>\n",
       "    <tr>\n",
       "      <th>442</th>\n",
       "      <td>22349871</td>\n",
       "      <td>Sokolovská 129/50, Praha, 18600</td>\n",
       "      <td>22213244</td>\n",
       "      <td>6</td>\n",
       "      <td>bytový dům</td>\n",
       "      <td>1.0</td>\n",
       "      <td>3.0</td>\n",
       "      <td>2.0</td>\n",
       "      <td>Bez výtahu</td>\n",
       "      <td>9</td>\n",
       "    </tr>\n",
       "    <tr>\n",
       "      <th>217</th>\n",
       "      <td>22352635</td>\n",
       "      <td>Karlínské náměstí 399/11, Praha, 18600</td>\n",
       "      <td>22215611</td>\n",
       "      <td>3</td>\n",
       "      <td>objekt k bydlení</td>\n",
       "      <td>1.0</td>\n",
       "      <td>14.0</td>\n",
       "      <td>2.0</td>\n",
       "      <td>Bez výtahu</td>\n",
       "      <td>10</td>\n",
       "    </tr>\n",
       "    <tr>\n",
       "      <th>78</th>\n",
       "      <td>22349367</td>\n",
       "      <td>Thámova 84/23, Praha, 18600</td>\n",
       "      <td>22212809</td>\n",
       "      <td>3</td>\n",
       "      <td>objekt k bydlení</td>\n",
       "      <td>2.0</td>\n",
       "      <td>26.0</td>\n",
       "      <td>1.0</td>\n",
       "      <td>S výtahem</td>\n",
       "      <td>10</td>\n",
       "    </tr>\n",
       "  </tbody>\n",
       "</table>\n",
       "</div>"
      ],
      "text/plain": [
       "     AddressCode                             AddressText  ObjectCode  \\\n",
       "442     22349871         Sokolovská 129/50, Praha, 18600    22213244   \n",
       "217     22352635  Karlínské náměstí 399/11, Praha, 18600    22215611   \n",
       "78      22349367             Thámova 84/23, Praha, 18600    22212809   \n",
       "\n",
       "     UsageCode        UsageLabel  FloorCount  FlatCount  ElevatorCode  \\\n",
       "442          6        bytový dům         1.0        3.0           2.0   \n",
       "217          3  objekt k bydlení         1.0       14.0           2.0   \n",
       "78           3  objekt k bydlení         2.0       26.0           1.0   \n",
       "\n",
       "    ElevatorLabel  CompanySum  \n",
       "442    Bez výtahu           9  \n",
       "217    Bez výtahu          10  \n",
       "78      S výtahem          10  "
      ]
     },
     "execution_count": 39,
     "metadata": {},
     "output_type": "execute_result"
    }
   ],
   "source": [
    "# Add a new column CompanySum to the df_address_building\n",
    "\n",
    "df_companies_on_address_code_sum = companies_on_address_code_sum.to_frame()\n",
    "\n",
    "df_address_building_complete = df_address_building.merge(df_companies_on_address_code_sum, how='left', on='AddressCode')\n",
    "df_address_building_complete=df_address_building_complete.rename(columns={0: 'CompanySum'})\n",
    "df_address_building_complete.sample(3)"
   ]
  },
  {
   "cell_type": "code",
   "execution_count": 40,
   "id": "baking-variance",
   "metadata": {},
   "outputs": [],
   "source": [
    "# The sum of employees lower bounds for a particular Address Code\n",
    "\n",
    "df_employee_lower_bound_sum = df_final_merge.groupby('AddressCode').agg({'EmployeeLowerBound': 'sum'})"
   ]
  },
  {
   "cell_type": "code",
   "execution_count": 41,
   "id": "romance-silicon",
   "metadata": {},
   "outputs": [
    {
     "data": {
      "text/html": [
       "<div>\n",
       "<style scoped>\n",
       "    .dataframe tbody tr th:only-of-type {\n",
       "        vertical-align: middle;\n",
       "    }\n",
       "\n",
       "    .dataframe tbody tr th {\n",
       "        vertical-align: top;\n",
       "    }\n",
       "\n",
       "    .dataframe thead th {\n",
       "        text-align: right;\n",
       "    }\n",
       "</style>\n",
       "<table border=\"1\" class=\"dataframe\">\n",
       "  <thead>\n",
       "    <tr style=\"text-align: right;\">\n",
       "      <th></th>\n",
       "      <th>AddressCode</th>\n",
       "      <th>AddressText</th>\n",
       "      <th>ObjectCode</th>\n",
       "      <th>UsageCode</th>\n",
       "      <th>UsageLabel</th>\n",
       "      <th>FloorCount</th>\n",
       "      <th>FlatCount</th>\n",
       "      <th>ElevatorCode</th>\n",
       "      <th>ElevatorLabel</th>\n",
       "      <th>CompanySum</th>\n",
       "      <th>EmployeeLowerBound</th>\n",
       "    </tr>\n",
       "  </thead>\n",
       "  <tbody>\n",
       "    <tr>\n",
       "      <th>389</th>\n",
       "      <td>22350756</td>\n",
       "      <td>Křižíkova 208/55, Praha, 18600</td>\n",
       "      <td>22213961</td>\n",
       "      <td>3</td>\n",
       "      <td>objekt k bydlení</td>\n",
       "      <td>1.0</td>\n",
       "      <td>7.0</td>\n",
       "      <td>2.0</td>\n",
       "      <td>Bez výtahu</td>\n",
       "      <td>8</td>\n",
       "      <td>25.0</td>\n",
       "    </tr>\n",
       "    <tr>\n",
       "      <th>271</th>\n",
       "      <td>22352244</td>\n",
       "      <td>Pernerova 357/22, Praha, 18600</td>\n",
       "      <td>22215271</td>\n",
       "      <td>3</td>\n",
       "      <td>objekt k bydlení</td>\n",
       "      <td>1.0</td>\n",
       "      <td>11.0</td>\n",
       "      <td>2.0</td>\n",
       "      <td>Bez výtahu</td>\n",
       "      <td>2</td>\n",
       "      <td>1.0</td>\n",
       "    </tr>\n",
       "    <tr>\n",
       "      <th>237</th>\n",
       "      <td>22354760</td>\n",
       "      <td>Nekvasilova 569/25, Praha, 18600</td>\n",
       "      <td>22217274</td>\n",
       "      <td>6</td>\n",
       "      <td>bytový dům</td>\n",
       "      <td>1.0</td>\n",
       "      <td>32.0</td>\n",
       "      <td>1.0</td>\n",
       "      <td>S výtahem</td>\n",
       "      <td>4</td>\n",
       "      <td>0.0</td>\n",
       "    </tr>\n",
       "  </tbody>\n",
       "</table>\n",
       "</div>"
      ],
      "text/plain": [
       "     AddressCode                       AddressText  ObjectCode  UsageCode  \\\n",
       "389     22350756    Křižíkova 208/55, Praha, 18600    22213961          3   \n",
       "271     22352244    Pernerova 357/22, Praha, 18600    22215271          3   \n",
       "237     22354760  Nekvasilova 569/25, Praha, 18600    22217274          6   \n",
       "\n",
       "           UsageLabel  FloorCount  FlatCount  ElevatorCode ElevatorLabel  \\\n",
       "389  objekt k bydlení         1.0        7.0           2.0    Bez výtahu   \n",
       "271  objekt k bydlení         1.0       11.0           2.0    Bez výtahu   \n",
       "237        bytový dům         1.0       32.0           1.0     S výtahem   \n",
       "\n",
       "     CompanySum  EmployeeLowerBound  \n",
       "389           8                25.0  \n",
       "271           2                 1.0  \n",
       "237           4                 0.0  "
      ]
     },
     "execution_count": 41,
     "metadata": {},
     "output_type": "execute_result"
    }
   ],
   "source": [
    "# Adding a new column CompanySum to the df_address_building\n",
    "\n",
    "df_address_building_complete = df_address_building_complete.merge(df_employee_lower_bound_sum, how='left', on='AddressCode')\n",
    "#df_address_building_complete.rename(columns={0: 'EmployeeSum'})\n",
    "df_address_building_complete.sample(3)"
   ]
  },
  {
   "cell_type": "code",
   "execution_count": 42,
   "id": "fourth-thumb",
   "metadata": {},
   "outputs": [
    {
     "data": {
      "text/plain": [
       "'\\n6) Data labeling\\n'"
      ]
     },
     "execution_count": 42,
     "metadata": {},
     "output_type": "execute_result"
    }
   ],
   "source": [
    "\"\"\"\n",
    "6) Data labeling\n",
    "\"\"\""
   ]
  },
  {
   "cell_type": "code",
   "execution_count": 43,
   "id": "recorded-collar",
   "metadata": {},
   "outputs": [
    {
     "name": "stdout",
     "output_type": "stream",
     "text": [
      "KONTROLA, ZDA NEDOŠLO KE ZTRÁTĚ DAT: 504 (504, 13)\n"
     ]
    }
   ],
   "source": [
    "list_of_indicators = []\n",
    "list_of_labels = []\n",
    "\n",
    "for index, row in df_address_building_complete.iterrows():\n",
    "    indicator = 0\n",
    "    if row['UsageCode'] == 14:\n",
    "        indicator = indicator + 0.2\n",
    "    if row['FlatCount'] == 0.0:\n",
    "        indicator = indicator + 0.2\n",
    "    if row['ElevatorCode'] == 1.0:\n",
    "        indicator = indicator + 0.2\n",
    "    if row['CompanySum'] > 5:\n",
    "        indicator = indicator + 0.2\n",
    "    if row['EmployeeLowerBound'] > 5:\n",
    "        indicator = indicator + 0.2\n",
    "    if indicator > 0.5:\n",
    "        list_of_labels.append(True)\n",
    "    else:\n",
    "        list_of_labels.append(False)    \n",
    "    list_of_indicators.append(indicator)\n",
    "\n",
    "# Assign the list of indicators to the dataframe\n",
    "df_address_building_complete['Indicator'] = list_of_indicators\n",
    "df_address_building_complete['OfficeBuilding'] = list_of_labels\n",
    "\n",
    "\n",
    "\"\"\"CONTINUOS CHECK\"\"\"\n",
    "print(\"Check whether no rows have got lost:\",len(list_of_indicators), df_address_building_complete.shape)"
   ]
  },
  {
   "cell_type": "code",
   "execution_count": 44,
   "id": "amended-priority",
   "metadata": {},
   "outputs": [
    {
     "data": {
      "text/html": [
       "<div>\n",
       "<style scoped>\n",
       "    .dataframe tbody tr th:only-of-type {\n",
       "        vertical-align: middle;\n",
       "    }\n",
       "\n",
       "    .dataframe tbody tr th {\n",
       "        vertical-align: top;\n",
       "    }\n",
       "\n",
       "    .dataframe thead th {\n",
       "        text-align: right;\n",
       "    }\n",
       "</style>\n",
       "<table border=\"1\" class=\"dataframe\">\n",
       "  <thead>\n",
       "    <tr style=\"text-align: right;\">\n",
       "      <th></th>\n",
       "      <th>AddressCode</th>\n",
       "      <th>AddressText</th>\n",
       "      <th>ObjectCode</th>\n",
       "      <th>UsageCode</th>\n",
       "      <th>UsageLabel</th>\n",
       "      <th>FloorCount</th>\n",
       "      <th>FlatCount</th>\n",
       "      <th>ElevatorCode</th>\n",
       "      <th>ElevatorLabel</th>\n",
       "      <th>CompanySum</th>\n",
       "      <th>EmployeeLowerBound</th>\n",
       "      <th>Indicator</th>\n",
       "      <th>OfficeBuilding</th>\n",
       "    </tr>\n",
       "  </thead>\n",
       "  <tbody>\n",
       "    <tr>\n",
       "      <th>445</th>\n",
       "      <td>22350179</td>\n",
       "      <td>Křižíkova 153/41, Praha, 18600</td>\n",
       "      <td>22213457</td>\n",
       "      <td>3</td>\n",
       "      <td>objekt k bydlení</td>\n",
       "      <td>1.0</td>\n",
       "      <td>6.0</td>\n",
       "      <td>2.0</td>\n",
       "      <td>Bez výtahu</td>\n",
       "      <td>1</td>\n",
       "      <td>25.0</td>\n",
       "      <td>0.2</td>\n",
       "      <td>False</td>\n",
       "    </tr>\n",
       "    <tr>\n",
       "      <th>282</th>\n",
       "      <td>22354115</td>\n",
       "      <td>Lyčkovo náměstí 514/5, Praha, 18600</td>\n",
       "      <td>22216758</td>\n",
       "      <td>3</td>\n",
       "      <td>objekt k bydlení</td>\n",
       "      <td>1.0</td>\n",
       "      <td>11.0</td>\n",
       "      <td>2.0</td>\n",
       "      <td>Bez výtahu</td>\n",
       "      <td>1</td>\n",
       "      <td>0.0</td>\n",
       "      <td>0.0</td>\n",
       "      <td>False</td>\n",
       "    </tr>\n",
       "    <tr>\n",
       "      <th>141</th>\n",
       "      <td>22350870</td>\n",
       "      <td>Křižíkova 220/91, Praha, 18600</td>\n",
       "      <td>22214071</td>\n",
       "      <td>6</td>\n",
       "      <td>bytový dům</td>\n",
       "      <td>1.0</td>\n",
       "      <td>9.0</td>\n",
       "      <td>1.0</td>\n",
       "      <td>S výtahem</td>\n",
       "      <td>6</td>\n",
       "      <td>1.0</td>\n",
       "      <td>0.4</td>\n",
       "      <td>False</td>\n",
       "    </tr>\n",
       "  </tbody>\n",
       "</table>\n",
       "</div>"
      ],
      "text/plain": [
       "     AddressCode                          AddressText  ObjectCode  UsageCode  \\\n",
       "445     22350179       Křižíkova 153/41, Praha, 18600    22213457          3   \n",
       "282     22354115  Lyčkovo náměstí 514/5, Praha, 18600    22216758          3   \n",
       "141     22350870       Křižíkova 220/91, Praha, 18600    22214071          6   \n",
       "\n",
       "           UsageLabel  FloorCount  FlatCount  ElevatorCode ElevatorLabel  \\\n",
       "445  objekt k bydlení         1.0        6.0           2.0    Bez výtahu   \n",
       "282  objekt k bydlení         1.0       11.0           2.0    Bez výtahu   \n",
       "141        bytový dům         1.0        9.0           1.0     S výtahem   \n",
       "\n",
       "     CompanySum  EmployeeLowerBound  Indicator  OfficeBuilding  \n",
       "445           1                25.0        0.2           False  \n",
       "282           1                 0.0        0.0           False  \n",
       "141           6                 1.0        0.4           False  "
      ]
     },
     "execution_count": 44,
     "metadata": {},
     "output_type": "execute_result"
    }
   ],
   "source": [
    "# Display the sample of results for the further observation\n",
    "# manual check - visualize the building on maps.google.com in the street view mode :)\n",
    "\n",
    "df_address_building_complete.sample(3)"
   ]
  },
  {
   "cell_type": "code",
   "execution_count": 45,
   "id": "impressed-effect",
   "metadata": {},
   "outputs": [
    {
     "data": {
      "text/plain": [
       "'\\n7) Training data preparation for the use of classifier\\n'"
      ]
     },
     "execution_count": 45,
     "metadata": {},
     "output_type": "execute_result"
    }
   ],
   "source": [
    "\"\"\"\n",
    "7) Training data preparation for the use of classifier\n",
    "\"\"\""
   ]
  },
  {
   "cell_type": "code",
   "execution_count": 46,
   "id": "viral-packaging",
   "metadata": {},
   "outputs": [
    {
     "data": {
      "text/plain": [
       "(504, 7)"
      ]
     },
     "execution_count": 46,
     "metadata": {},
     "output_type": "execute_result"
    }
   ],
   "source": [
    "# Remove the columns that are not descriptive\n",
    "\n",
    "df_for_classifier = df_address_building_complete.drop(columns=['AddressText','ObjectCode', 'UsageCode', 'UsageLabel','ElevatorLabel', 'Indicator'])\n",
    "df_for_classifier.shape"
   ]
  },
  {
   "cell_type": "code",
   "execution_count": 47,
   "id": "steady-memorabilia",
   "metadata": {},
   "outputs": [
    {
     "data": {
      "text/plain": [
       "(485, 7)"
      ]
     },
     "execution_count": 47,
     "metadata": {},
     "output_type": "execute_result"
    }
   ],
   "source": [
    "# Remove nonsense values\n",
    "# EmployeeLowerBound > 5000\n",
    "\n",
    "emp_list = df_for_classifier['EmployeeLowerBound'].tolist()\n",
    "emp_list.sort()\n",
    "emp_list\n",
    "\n",
    "emp_error_values_list = [5001.0,5024.0,5053.0,5101.0,5451.0,5853.0,7553.0,7925.0,10000.0, 10001.0,14946.0,20000.0,20400.0,30001.0, 30130.0,31802.0]\n",
    "\n",
    "df_for_classifier = df_for_classifier[~df_for_classifier['EmployeeLowerBound'].isin(emp_error_values_list)]\n",
    "df_for_classifier.shape"
   ]
  },
  {
   "cell_type": "code",
   "execution_count": 48,
   "id": "elder-cricket",
   "metadata": {},
   "outputs": [
    {
     "data": {
      "text/plain": [
       "'\\n8) Aplication of DecisionTreeClassifier\\n'"
      ]
     },
     "execution_count": 48,
     "metadata": {},
     "output_type": "execute_result"
    }
   ],
   "source": [
    "\"\"\"\n",
    "8) Aplication of DecisionTreeClassifier\n",
    "\"\"\""
   ]
  },
  {
   "cell_type": "code",
   "execution_count": 49,
   "id": "christian-founder",
   "metadata": {},
   "outputs": [
    {
     "data": {
      "text/plain": [
       "0       True\n",
       "1       True\n",
       "2      False\n",
       "3       True\n",
       "4      False\n",
       "       ...  \n",
       "498     True\n",
       "499     True\n",
       "501     True\n",
       "502     True\n",
       "503     True\n",
       "Name: OfficeBuilding, Length: 485, dtype: bool"
      ]
     },
     "execution_count": 49,
     "metadata": {},
     "output_type": "execute_result"
    }
   ],
   "source": [
    "y = df_for_classifier['OfficeBuilding']==True\n",
    "y.astype(int)\n",
    "y"
   ]
  },
  {
   "cell_type": "code",
   "execution_count": 50,
   "id": "cardiovascular-repeat",
   "metadata": {},
   "outputs": [],
   "source": [
    "X = df_for_classifier.drop(columns=[\"AddressCode\", \"OfficeBuilding\"])"
   ]
  },
  {
   "cell_type": "code",
   "execution_count": 51,
   "id": "vertical-alpha",
   "metadata": {},
   "outputs": [],
   "source": [
    "# Import classifier \n",
    "from sklearn.tree import DecisionTreeClassifier\n",
    "model = DecisionTreeClassifier()"
   ]
  },
  {
   "cell_type": "code",
   "execution_count": 52,
   "id": "viral-mixture",
   "metadata": {},
   "outputs": [],
   "source": [
    "# Split data into test set and train set\n",
    "from sklearn.model_selection import train_test_split \n",
    "X_train, X_test, y_train, y_test =  train_test_split(X, y)"
   ]
  },
  {
   "cell_type": "code",
   "execution_count": 53,
   "id": "cubic-calculation",
   "metadata": {},
   "outputs": [],
   "source": [
    "# Fit classifier and conduct prediction\n",
    "model.fit(X_train, y_train)\n",
    "prediction = model.predict(X_test)"
   ]
  },
  {
   "cell_type": "code",
   "execution_count": 54,
   "id": "academic-fault",
   "metadata": {},
   "outputs": [
    {
     "name": "stdout",
     "output_type": "stream",
     "text": [
      "DefinedLabel:  Prediction:\n",
      "0                0          OK\n",
      "0                0          OK\n",
      "0                0          OK\n",
      "0                0          OK\n",
      "0                0          OK\n",
      "1                1          OK\n",
      "1                1          OK\n",
      "0                0          OK\n",
      "1                1          OK\n",
      "1                1          OK\n",
      "0                0          OK\n",
      "0                0          OK\n",
      "0                0          OK\n",
      "0                0          OK\n",
      "0                0          OK\n",
      "0                0          OK\n",
      "1                1          OK\n",
      "0                0          OK\n",
      "0                0          OK\n",
      "0                0          OK\n",
      "1                1          OK\n",
      "0                0          OK\n",
      "0                0          OK\n",
      "0                0          OK\n",
      "1                1          OK\n",
      "0                0          OK\n",
      "0                0          OK\n",
      "1                1          OK\n",
      "0                0          OK\n",
      "0                0          OK\n",
      "0                0          OK\n",
      "0                0          OK\n",
      "0                0          OK\n",
      "0                0          OK\n",
      "0                0          OK\n",
      "0                0          OK\n",
      "0                1          X\n",
      "0                0          OK\n",
      "0                1          X\n",
      "0                0          OK\n",
      "0                0          OK\n",
      "0                0          OK\n",
      "0                0          OK\n",
      "0                0          OK\n",
      "0                0          OK\n",
      "0                0          OK\n",
      "1                0          X\n",
      "0                1          X\n",
      "0                0          OK\n",
      "0                0          OK\n",
      "0                0          OK\n",
      "0                0          OK\n",
      "1                1          OK\n",
      "0                0          OK\n",
      "1                1          OK\n",
      "0                0          OK\n",
      "0                0          OK\n",
      "0                0          OK\n",
      "0                0          OK\n",
      "0                0          OK\n",
      "0                0          OK\n",
      "0                0          OK\n",
      "0                0          OK\n",
      "0                0          OK\n",
      "0                0          OK\n",
      "0                0          OK\n",
      "0                0          OK\n",
      "1                1          OK\n",
      "0                0          OK\n",
      "0                0          OK\n",
      "0                0          OK\n",
      "0                0          OK\n",
      "1                1          OK\n",
      "0                0          OK\n",
      "0                0          OK\n",
      "0                0          OK\n",
      "0                0          OK\n",
      "0                0          OK\n",
      "0                0          OK\n",
      "0                0          OK\n",
      "0                0          OK\n",
      "0                0          OK\n",
      "0                0          OK\n",
      "1                1          OK\n",
      "0                0          OK\n",
      "0                0          OK\n",
      "0                0          OK\n",
      "0                0          OK\n",
      "0                0          OK\n",
      "0                0          OK\n",
      "1                1          OK\n",
      "1                0          X\n",
      "0                0          OK\n",
      "0                0          OK\n",
      "1                1          OK\n",
      "0                0          OK\n",
      "0                0          OK\n",
      "1                1          OK\n",
      "1                1          OK\n",
      "0                0          OK\n",
      "0                0          OK\n",
      "0                0          OK\n",
      "0                0          OK\n",
      "0                0          OK\n",
      "0                0          OK\n",
      "0                0          OK\n",
      "0                0          OK\n",
      "0                0          OK\n",
      "1                1          OK\n",
      "0                0          OK\n",
      "0                0          OK\n",
      "0                0          OK\n",
      "0                0          OK\n",
      "0                0          OK\n",
      "0                0          OK\n",
      "0                0          OK\n",
      "0                0          OK\n",
      "0                0          OK\n",
      "0                0          OK\n",
      "0                0          OK\n",
      "0                0          OK\n",
      "1                1          OK\n",
      "Sum of errors: 5\n",
      "Success Rate: 95.90 %\n"
     ]
    }
   ],
   "source": [
    "print(\"DefinedLabel:  Prediction:\")\n",
    "for true, predicted in zip(y_test, prediction):\n",
    "    print(f\"{true:<15}  {predicted:<10} {'OK' if true == predicted else 'X'}\")\n",
    "\n",
    "print(f\"Sum of errors: {sum(y_test != prediction)}\")\n",
    "print(f\"Success Rate: {100*sum(y_test == prediction)/len(y_test):.2f} %\")"
   ]
  },
  {
   "cell_type": "code",
   "execution_count": 55,
   "id": "excited-compatibility",
   "metadata": {},
   "outputs": [
    {
     "data": {
      "text/plain": [
       "'\\n9) Visualization of errors\\n'"
      ]
     },
     "execution_count": 55,
     "metadata": {},
     "output_type": "execute_result"
    }
   ],
   "source": [
    "\"\"\"\n",
    "9) Visualization of errors\n",
    "\"\"\""
   ]
  },
  {
   "cell_type": "code",
   "execution_count": 56,
   "id": "polished-retail",
   "metadata": {},
   "outputs": [],
   "source": [
    "from sklearn.metrics import plot_confusion_matrix\n",
    "import matplotlib.pyplot as plt \n",
    "%matplotlib inline"
   ]
  },
  {
   "cell_type": "code",
   "execution_count": 57,
   "id": "sticky-aggregate",
   "metadata": {
    "scrolled": true
   },
   "outputs": [
    {
     "data": {
      "image/png": "[encoded data removed]",
      "text/plain": [
       "<Figure size 432x288 with 2 Axes>"
      ]
     },
     "metadata": {
      "needs_background": "light"
     },
     "output_type": "display_data"
    }
   ],
   "source": [
    "plot_confusion_matrix(model, X_test, y_test, cmap=plt.cm.Blues);"
   ]
  }
 ],
 "metadata": {
  "kernelspec": {
   "display_name": "Python 3",
   "language": "python",
   "name": "python3"
  },
  "language_info": {
   "codemirror_mode": {
    "name": "ipython",
    "version": 3
   },
   "file_extension": ".py",
   "mimetype": "text/x-python",
   "name": "python",
   "nbconvert_exporter": "python",
   "pygments_lexer": "ipython3",
   "version": "3.8.2"
  }
 },
 "nbformat": 4,
 "nbformat_minor": 5
}
